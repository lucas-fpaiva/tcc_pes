{
  "cells": [
    {
      "cell_type": "markdown",
      "metadata": {
        "id": "view-in-github",
        "colab_type": "text"
      },
      "source": [
        "<a href=\"https://colab.research.google.com/github/lucas-fpaiva/tcc_pes/blob/main/preprocessing/final_evaluation.ipynb\" target=\"_parent\"><img src=\"https://colab.research.google.com/assets/colab-badge.svg\" alt=\"Open In Colab\"/></a>"
      ]
    },
    {
      "cell_type": "markdown",
      "metadata": {
        "id": "Wrz2fsSkeIkV"
      },
      "source": [
        "# Avaliação com aeronave inédita"
      ]
    },
    {
      "cell_type": "code",
      "execution_count": 1,
      "metadata": {
        "colab": {
          "base_uri": "https://localhost:8080/"
        },
        "id": "0FFoiDibh_Mv",
        "outputId": "e72763f1-eba9-4d73-96f4-3e0dee8ac311"
      },
      "outputs": [
        {
          "output_type": "stream",
          "name": "stdout",
          "text": [
            "Estou rodando no Colab (S/N)?\n",
            "s\n",
            "Mounted at /content/drive\n"
          ]
        }
      ],
      "source": [
        "print(\"Estou rodando no Colab (S/N)?\")\n",
        "ambiente = input()\n",
        "ambiente=ambiente.upper()\n",
        "\n",
        "if ambiente == \"S\":\n",
        "  from google.colab import drive\n",
        "  import os\n",
        "\n",
        "  drive.mount('/content/drive',force_remount=True)\n",
        "  os.chdir('/content/drive/Shareddrives/TCC_PES/codigos')"
      ]
    },
    {
      "cell_type": "markdown",
      "metadata": {
        "id": "4hC-glVnaRCp"
      },
      "source": [
        "## Tratamento e organização inicial dos dados"
      ]
    },
    {
      "cell_type": "code",
      "execution_count": 2,
      "metadata": {
        "id": "Ad3M903zeIkh"
      },
      "outputs": [],
      "source": [
        "#bibliotecas de manipulação de dados\n",
        "import pandas as pd\n",
        "import numpy as np\n",
        "\n",
        "#visualização de dados\n",
        "import seaborn as sns\n",
        "import matplotlib.pyplot as plt\n",
        "import plotly.express as px\n",
        "import plotly as py\n",
        "import matplotlib.gridspec as gridspec\n",
        "from ast import literal_eval\n",
        "\n",
        "#pré processamento\n",
        "from sklearn.preprocessing import MinMaxScaler, StandardScaler\n",
        "\n",
        "#modelos recorrentes Keras\n",
        "from tensorflow.keras.layers import SimpleRNN as RNN\n",
        "from tensorflow.keras.layers import LSTM\n",
        "from tensorflow.keras.layers import GRU\n",
        "from tensorflow.keras.models import Sequential\n",
        "from tensorflow.keras.layers import Dense, Dropout\n",
        "from tensorflow.keras.regularizers import L2\n",
        "from tensorflow.keras.callbacks import EarlyStopping\n",
        "\n",
        "#bibliotecas necessárias para gridsearch\n",
        "from sklearn.pipeline import make_pipeline\n",
        "from sklearn.model_selection import GridSearchCV\n",
        "\n",
        "#modelo sklearn\n",
        "from sklearn.neural_network import MLPRegressor\n",
        "from sklearn.linear_model import LinearRegression\n",
        "from sklearn.svm import SVR\n",
        "\n",
        "#métricas de avaliação dos modelos.\n",
        "from sklearn.metrics import mean_squared_error, mean_absolute_error, r2_score, max_error\n",
        "\n",
        "#biblioteca Tensorflow\n",
        "from tensorflow.keras.utils import set_random_seed "
      ]
    },
    {
      "cell_type": "markdown",
      "metadata": {
        "id": "QN9R_tXEh_M6"
      },
      "source": [
        "### Tratamento inicial dos dados\n",
        "* Mediana dos dias \n",
        "* Unificação dos datasets \n",
        "* Separação treino e teste final"
      ]
    },
    {
      "cell_type": "code",
      "execution_count": 3,
      "metadata": {
        "id": "69orpC8seIkl"
      },
      "outputs": [],
      "source": [
        "def get_data(data_type):\n",
        "  if data_type == \"Train\":\n",
        "    #importando direto do github\n",
        "    data_health = pd.read_csv('https://raw.githubusercontent.com/lucas-fpaiva/tcc_pes/main/data/saude.csv')\n",
        "  else:\n",
        "    #importando direto do github\n",
        "    data_health = pd.read_csv('https://raw.githubusercontent.com/lucas-fpaiva/tcc_pes/main/data/saude_test.csv')\n",
        "\n",
        "  #calculando a mediana dos dados\n",
        "  data_health = data_health.groupby(by=['COD_FALH','COD_AENV','DT_PROC']).median().reset_index()\n",
        "  return data_health"
      ]
    },
    {
      "cell_type": "markdown",
      "metadata": {
        "id": "YlvfRujGKpnE"
      },
      "source": [
        "## Modelo"
      ]
    },
    {
      "cell_type": "code",
      "execution_count": 4,
      "metadata": {
        "id": "av2L692QK4kP"
      },
      "outputs": [],
      "source": [
        "#aplica filtro de média móvel\n",
        "def serie_breaks (desgaste,fail):\n",
        "  if fail ==35:\n",
        "    dist =20\n",
        "  else:\n",
        "    dist =3\n",
        "  quebras = []\n",
        "  for i in range(0,len(desgaste)-1):\n",
        "    if abs(desgaste[i]-desgaste[i+1])>dist:\n",
        "      quebras.append(i)\n",
        "  quebras = np.array(quebras)\n",
        "\n",
        "  return quebras\n",
        "\n",
        "\n",
        "#Transforma o banco de dados em instâncias/amostras de acordo com o janela de tempo utilizada\n",
        "def get_samples (data, fail, look_back):\n",
        "  samples=[]\n",
        "  samples_day=[]\n",
        "  n = look_back+10 #Tamanho (Dias) necessário da amostra\n",
        "\n",
        "  for aircraft in np.unique(data.COD_AENV):\n",
        "      air_data = data[(data.COD_AENV==aircraft)  & (data.COD_FALH==fail)] #filtrando por aeronave e fail\n",
        "      degradation = air_data.VLR_DESG.values\n",
        "      day = air_data.DT_PROC.values\n",
        "      discontinuities = serie_breaks(degradation,fail) #identificando as descontinuidades\n",
        "      discontinuities=np.append(discontinuities, len(degradation)-1) #insere o fim do trecho\n",
        "      init=0\n",
        "      for i in range(0,len(discontinuities)): \n",
        "        interval_break=degradation[init:discontinuities[i]+1] #intervalo entre duas quebras\n",
        "        interval_days = day[init:discontinuities[i]+1] #dias correspondentes ao intervalo \n",
        "        init=discontinuities[i]+1\n",
        "        if len(interval_break)>=look_back+10: #verifica se os intervalos possuem a quantidade minima de valores\n",
        "            for i in range(0,len(interval_break)-n+1): #separa os intervalos em amostras\n",
        "              sample = interval_break[i:i+n].tolist() #uma amostra com n valores\n",
        "              sample_day = interval_days[i:i+n].tolist() #dias correspondentes à amostra\n",
        "              sample_day.append(aircraft)\n",
        "              sample.append(aircraft)\n",
        "              samples.append(sample)\n",
        "              samples_day.append(sample_day)\n",
        "      \n",
        "  samples = np.array(samples)\n",
        "  samples_day = np.array(samples_day)\n",
        "  return  samples, samples_day \n",
        "\n",
        "\n",
        "#Normalização das amostras\n",
        "def normalize_samples(samples, norm_method):\n",
        "  if norm_method==\"MM(-1,1)\":\n",
        "    scaler = MinMaxScaler(feature_range=(-1, 1))\n",
        "    samples_scaler = scaler.fit_transform(samples)\n",
        "    return samples_scaler, scaler\n",
        "  elif norm_method==\"MM(0,1)\":\n",
        "    scaler = MinMaxScaler(feature_range=(0, 1))\n",
        "    samples_scaler = scaler.fit_transform(samples)\n",
        "    return samples_scaler, scaler\n",
        "  elif norm_method==\"Zscore\":\n",
        "    scaler = StandardScaler()\n",
        "    samples_scaler = scaler.fit_transform(samples)\n",
        "    return samples_scaler, scaler\n",
        "  else:\n",
        "    return samples\n",
        "\n",
        "\n",
        "#Separa as amostras em em X,Y e treino, teste\n",
        "def split_train_test (samples, air_test, look_back, norm_method=False, reshape=True): \n",
        "  data_train = samples[samples[:, look_back+10] != air_test][:, 0:look_back+10] #dados de treino\n",
        "  #seperação de x e y\n",
        "  x_train = data_train[:,0:look_back]\n",
        "  y_train = data_train[:,look_back+9]\n",
        "\n",
        "  if air_test==False:\n",
        "    if norm_method != False:\n",
        "      x_train, x_scaler = normalize_samples(x_train, norm_method)\n",
        "      y_train, y_scaler = normalize_samples(y_train.reshape(-1, 1), norm_method)\n",
        "\n",
        "      if reshape==True:\n",
        "        x_train = np.reshape(x_train, (x_train.shape[0],1, x_train[0].shape[0])) \n",
        "        y_train = np.reshape(y_train, (y_train.shape[0],1, 1))\n",
        "        return x_train, y_train, y_scaler, x_scaler\n",
        "\n",
        "      else:\n",
        "        return x_train, y_train, y_scaler, x_scaler\n",
        "  \n",
        "    return x_train, y_train\n",
        "\n",
        "  data_test = samples[samples[:, look_back+10] == air_test][:, 0:look_back+10] #dados de teste\n",
        "  #seperação de x e y\n",
        "  x_test = data_test[:,0:look_back]\n",
        "  y_test = data_test[:,look_back+9]\n",
        "\n",
        "  #normalização de x e y\n",
        "  x_train, x_scaler = normalize_samples(x_train, norm_method)\n",
        "  x_test = x_scaler.transform(x_test)\n",
        "  y_train, y_scaler = normalize_samples(y_train.reshape(-1, 1), norm_method)\n",
        "  y_test = y_scaler.transform(y_test.reshape(-1, 1))\n",
        "\n",
        "  #reshape para treinar os modelos recorrentes\n",
        "  if reshape==True:\n",
        "      x_train = np.reshape(x_train, (x_train.shape[0],1, x_train[0].shape[0])) \n",
        "      y_train = np.reshape(y_train, (y_train.shape[0],1, 1))\n",
        "      x_test  = np.reshape(x_test , (x_test.shape[0], 1, x_test[0].shape[0]))\n",
        "      y_test = np.reshape(y_test, (y_test.shape[0], 1,1))\n",
        "\n",
        "  #retorna os scalers para reverter a normalização\n",
        "  return x_train, y_train, x_test, y_test, y_scaler, x_scaler \n"
      ]
    },
    {
      "cell_type": "code",
      "execution_count": 5,
      "metadata": {
        "id": "8IwRWF8nmY7b"
      },
      "outputs": [],
      "source": [
        "#Retorna todas as métricas calculadas\n",
        "def metrics(y_true,y_pred):\n",
        "  rmse = mean_squared_error(y_true, y_pred, squared = False)\n",
        "  max_e = max_error(y_true, y_pred) \n",
        "  mae = mean_absolute_error(y_true, y_pred)\n",
        "  r2 = r2_score(y_true, y_pred)\n",
        "\n",
        "  return([rmse, max_e, mae, r2])"
      ]
    },
    {
      "cell_type": "code",
      "source": [
        "set_random_seed(123)\n",
        "\n",
        "def fail_model(fail):\n",
        "  if fail == 1:\n",
        "    model_name = \"CLR\"\n",
        "    norm = \"Zscore\"\n",
        "    look_back = 10\n",
        "    model = LinearRegression(n_jobs = -1)\n",
        "\n",
        "  elif fail == 23:\n",
        "    model_name = \"SRNN\"\n",
        "    norm = \"Zscore\"\n",
        "    look_back = 30\n",
        "    model = Sequential()\n",
        "    model.add(RNN(256, input_shape=(1, look_back)))\n",
        "    model.add(Dense(56, kernel_regularizer='l2'))\n",
        "    model.add(Dropout(0))\n",
        "    model.add(Dense(1, kernel_regularizer='l2'))\n",
        "\n",
        "  elif fail == 24:\n",
        "    model_name = \"SLSTM\"\n",
        "    norm = \"Zscore\"\n",
        "    look_back = 30\n",
        "    model = Sequential()\n",
        "    model.add(RNN(256, input_shape=(1, look_back)))\n",
        "    model.add(Dense(56, kernel_regularizer='l2'))\n",
        "    model.add(Dropout(0.5))\n",
        "    model.add(Dense(1, kernel_regularizer='l2'))\n",
        "\n",
        "  elif fail == 35:\n",
        "    model_name = \"DRNN\"\n",
        "    norm = \"MM(-1,1)\"\n",
        "    look_back = 10\n",
        "    model = Sequential()\n",
        "    model.add(RNN(14, input_shape=(1, look_back), return_sequences = True))\n",
        "    model.add(RNN(21, return_sequences = True))\n",
        "    model.add(RNN(14))\n",
        "    model.add(Dropout(0))\n",
        "    model.add(Dense(1)) \n",
        "\n",
        "  return model, look_back, norm, model_name\n",
        "\n",
        "# Tratamento e separação x, y\n",
        "def final_split (data, data_test, fail, model_name, look_back, norm):\n",
        "  \n",
        "  samples,_ = get_samples (data,fail=fail, look_back= look_back)\n",
        "  samples_test, test_days = get_samples (data_test,fail=fail, look_back= look_back)\n",
        "  x_test, y_test = split_train_test(samples_test, air_test=False, look_back=look_back, norm_method = False, reshape=False)\n",
        "\n",
        "  if model_name[0] == \"C\":\n",
        "    reshape=False\n",
        "  else: \n",
        "    reshape=True\n",
        "  \n",
        "  x_train, y_train, y_scaler, x_scaler = split_train_test(samples,air_test=False, look_back=look_back, norm_method = norm, reshape=reshape)\n",
        "  \n",
        "  x_test =  x_scaler.transform(x_test)\n",
        "  \n",
        "  if reshape == True:\n",
        "    x_test  = np.reshape(x_test, (x_test.shape[0], 1, x_test[0].shape[0]))\n",
        "\n",
        "  return x_train, y_train, x_test, y_test, y_scaler, samples_test, test_days\n",
        "\n",
        "def retrain_model(data, data_test, fail):\n",
        "  results = []\n",
        "  model, look_back, norm, model_name = fail_model(fail)\n",
        "\n",
        "  x_train, y_train, x_test, y_test, y_scaler, samples_test, test_days = final_split (data, data_test, fail, model_name, look_back, norm)\n",
        "\n",
        "  if model_name[0] != \"C\":\n",
        "    early_stopping = EarlyStopping(patience=5)\n",
        "    model.compile(loss='mean_squared_error', optimizer='adam')\n",
        "    model.fit(x_train, y_train, epochs=400, batch_size=170, validation_split=0.2, callbacks=[early_stopping], verbose=0)\n",
        "    #revertendo a normalização e realizando a predição\n",
        "    y_pred_rev = y_scaler.inverse_transform(model.predict(x_test)[:,0].reshape(-1,1))\n",
        "  else:\n",
        "    model.fit(x_train, y_train.ravel())\n",
        "    #revertendo a normalização e realizando a predição\n",
        "    y_pred_rev = y_scaler.inverse_transform(model.predict(x_test).reshape(-1,1))\n",
        "    \n",
        "  return y_pred_rev, y_test, test_days,look_back"
      ],
      "metadata": {
        "id": "nOQ1ddxenexu"
      },
      "execution_count": 6,
      "outputs": []
    },
    {
      "cell_type": "markdown",
      "source": [
        "## Retreino e visualização dos resultados"
      ],
      "metadata": {
        "id": "Z3LXxaEnqrEX"
      }
    },
    {
      "cell_type": "code",
      "source": [
        "data = get_data(\"Train\")\n",
        "data_test = get_data(\"Test\")\n",
        "\n",
        "results = []\n",
        "fig = plt.figure(figsize = (20,6),dpi=100)\n",
        "axes = gridspec.GridSpec(nrows=2, ncols=2, figure=fig, wspace=0.1, hspace=0.3)\n",
        "sns.set_theme(style=\"white\", palette=None)\n",
        "count= 0\n",
        "im = [ [0,0], [0,1], [1,0], [1,1] ]\n",
        "\n",
        "for fail in [1,23,24,35]:\n",
        "\n",
        "  y_pred_rev, y_test, test_days, look_back = retrain_model(data, data_test, fail)\n",
        "  days = np.array(test_days[:,look_back+9],dtype= 'datetime64')\n",
        "  df_all = data_test[data_test.COD_FALH == fail]\n",
        "  \n",
        "  result = metrics(y_test,y_pred_rev)\n",
        "  result.append(fail)\n",
        "  results.append(result)\n",
        "\n",
        "  #PLOT\n",
        "  ax = fig.add_subplot(axes[im[count][0], im[count][1]])\n",
        "  ax.grid()\n",
        "  ax.set_title(\"Falha: \"+ str(fail))\n",
        "  ax.scatter(pd.to_datetime(df_all['DT_PROC']), df_all['VLR_DESG'], color='black', marker=\"o\", s=14)\n",
        "  # ax.scatter(days, y_test, color='black' , marker=\"o\")\n",
        "  ax.scatter(days, y_pred_rev, color='m' , marker=\"o\",s=15 )\n",
        "  \n",
        "  ax.grid(True)\n",
        "  if count == 2 or count == 3:\n",
        "    ax.set_xlabel(\"Dias\")\n",
        "  if count == 0 or count == 2:\n",
        "    ax.set_ylabel(\"Desgaste (%)\")\n",
        "  if count==0:\n",
        "    ax.legend(['Real', 'Predito'])\n",
        "  count+=1\n",
        "\n",
        "plt.savefig('resultados/fig_final_predict.pdf', format=\"pdf\", dpi=1000, bbox_inches=\"tight\")\n",
        "#cria o dataframe com os resultados\n",
        "data_results = pd.DataFrame(results, columns= ['RMSE', 'MaxE', 'MAE', \"R2\",'Falha'])\n"
      ],
      "metadata": {
        "colab": {
          "base_uri": "https://localhost:8080/",
          "height": 459
        },
        "id": "yTZDVVHyG1sb",
        "outputId": "d3ad837a-ffd1-4e0c-e7b2-826e3a6b6aee"
      },
      "execution_count": null,
      "outputs": [
        {
          "output_type": "stream",
          "name": "stdout",
          "text": [
            "7/7 [==============================] - 0s 3ms/step\n",
            "3/3 [==============================] - 0s 5ms/step\n",
            "16/16 [==============================] - 0s 2ms/step\n"
          ]
        },
        {
          "output_type": "display_data",
          "data": {
            "text/plain": [
              "<Figure size 2000x600 with 4 Axes>"
            ],
            "image/png": "[encoded data removed]"
          },
          "metadata": {
            "needs_background": "light"
          }
        }
      ]
    },
    {
      "cell_type": "code",
      "source": [
        "print(round(data_results,3).to_latex(index=False))"
      ],
      "metadata": {
        "colab": {
          "base_uri": "https://localhost:8080/"
        },
        "id": "79w8bZzHs7i2",
        "outputId": "a2d4b8fd-7145-48bc-f4d6-e0536d559295"
      },
      "execution_count": null,
      "outputs": [
        {
          "output_type": "stream",
          "name": "stdout",
          "text": [
            "\\begin{tabular}{rrrrr}\n",
            "\\toprule\n",
            " RMSE &   MaxE &   MAE &    R2 &  Falha \\\\\n",
            "\\midrule\n",
            "3.331 & 14.339 & 1.448 & 0.729 &      1 \\\\\n",
            "1.591 &  6.423 & 0.883 & 0.837 &     23 \\\\\n",
            "1.243 &  4.524 & 0.904 & 0.733 &     24 \\\\\n",
            "3.583 & 21.727 & 2.126 & 0.957 &     35 \\\\\n",
            "\\bottomrule\n",
            "\\end{tabular}\n",
            "\n"
          ]
        }
      ]
    },
    {
      "cell_type": "code",
      "source": [
        "px.line(data_test, x='DT_PROC', y='VLR_DESG', color='COD_AENV', line_dash='COD_FALH')"
      ],
      "metadata": {
        "id": "CUs3ocQkbjXf"
      },
      "execution_count": null,
      "outputs": []
    },
    {
      "cell_type": "markdown",
      "source": [
        "## BarPlot de todos os resultados"
      ],
      "metadata": {
        "id": "tkw1Gx4qJsjC"
      }
    },
    {
      "cell_type": "code",
      "source": [
        "#Construindo DataFrame de comparação\n",
        "results_compare = {'Falha': [1,1,1, 23,23,23, 24,24,24, 35,35,35],\n",
        "                   'Modelo': ['LR','LR','LR', 'SRNN','SRNN','SRNN', 'SLSTM','SLSTM','SLSTM', 'DRNN','DRNN','DRNN'], \n",
        "                   'RMSE':[1.227,0.888,3.331, 1.363,1.226,1.591, 1.032,0.538,1.243, 4.832,2.765,3.583],\n",
        "                   'STD':[0.34,[0.881,0.895],0, 0.615,[1.212,1.239],0, 0.357,[0.413,0.662],0, 1.21,[2.085,3.445],0],\n",
        "                   'Dataset': ['Treino','Validação','Teste', 'Treino', 'Validação', 'Teste','Treino', 'Validação', 'Teste', 'Treino', 'Validação', 'Teste']}\n",
        "\n",
        "df_results = pd.DataFrame(results_compare)\n",
        "df_results.head(12)"
      ],
      "metadata": {
        "id": "dmn06pDEr6gV",
        "outputId": "ccfb125b-3a96-482c-c201-11ba5d87cd63",
        "colab": {
          "base_uri": "https://localhost:8080/",
          "height": 426
        }
      },
      "execution_count": 84,
      "outputs": [
        {
          "output_type": "execute_result",
          "data": {
            "text/plain": [
              "    Falha Modelo   RMSE             STD    Dataset\n",
              "0       1     LR  1.227            0.34     Treino\n",
              "1       1     LR  0.888  [0.881, 0.895]  Validação\n",
              "2       1     LR  3.331               0      Teste\n",
              "3      23   SRNN  1.363           0.615     Treino\n",
              "4      23   SRNN  1.226  [1.212, 1.239]  Validação\n",
              "5      23   SRNN  1.591               0      Teste\n",
              "6      24  SLSTM  1.032           0.357     Treino\n",
              "7      24  SLSTM  0.538  [0.413, 0.662]  Validação\n",
              "8      24  SLSTM  1.243               0      Teste\n",
              "9      35   DRNN  4.832            1.21     Treino\n",
              "10     35   DRNN  2.765  [2.085, 3.445]  Validação\n",
              "11     35   DRNN  3.583               0      Teste"
            ],
            "text/html": [
              "\n",
              "  <div id=\"df-9e0ae9b7-8c49-4ac6-ad35-046117848f8a\">\n",
              "    <div class=\"colab-df-container\">\n",
              "      <div>\n",
              "<style scoped>\n",
              "    .dataframe tbody tr th:only-of-type {\n",
              "        vertical-align: middle;\n",
              "    }\n",
              "\n",
              "    .dataframe tbody tr th {\n",
              "        vertical-align: top;\n",
              "    }\n",
              "\n",
              "    .dataframe thead th {\n",
              "        text-align: right;\n",
              "    }\n",
              "</style>\n",
              "<table border=\"1\" class=\"dataframe\">\n",
              "  <thead>\n",
              "    <tr style=\"text-align: right;\">\n",
              "      <th></th>\n",
              "      <th>Falha</th>\n",
              "      <th>Modelo</th>\n",
              "      <th>RMSE</th>\n",
              "      <th>STD</th>\n",
              "      <th>Dataset</th>\n",
              "    </tr>\n",
              "  </thead>\n",
              "  <tbody>\n",
              "    <tr>\n",
              "      <th>0</th>\n",
              "      <td>1</td>\n",
              "      <td>LR</td>\n",
              "      <td>1.227</td>\n",
              "      <td>0.34</td>\n",
              "      <td>Treino</td>\n",
              "    </tr>\n",
              "    <tr>\n",
              "      <th>1</th>\n",
              "      <td>1</td>\n",
              "      <td>LR</td>\n",
              "      <td>0.888</td>\n",
              "      <td>[0.881, 0.895]</td>\n",
              "      <td>Validação</td>\n",
              "    </tr>\n",
              "    <tr>\n",
              "      <th>2</th>\n",
              "      <td>1</td>\n",
              "      <td>LR</td>\n",
              "      <td>3.331</td>\n",
              "      <td>0</td>\n",
              "      <td>Teste</td>\n",
              "    </tr>\n",
              "    <tr>\n",
              "      <th>3</th>\n",
              "      <td>23</td>\n",
              "      <td>SRNN</td>\n",
              "      <td>1.363</td>\n",
              "      <td>0.615</td>\n",
              "      <td>Treino</td>\n",
              "    </tr>\n",
              "    <tr>\n",
              "      <th>4</th>\n",
              "      <td>23</td>\n",
              "      <td>SRNN</td>\n",
              "      <td>1.226</td>\n",
              "      <td>[1.212, 1.239]</td>\n",
              "      <td>Validação</td>\n",
              "    </tr>\n",
              "    <tr>\n",
              "      <th>5</th>\n",
              "      <td>23</td>\n",
              "      <td>SRNN</td>\n",
              "      <td>1.591</td>\n",
              "      <td>0</td>\n",
              "      <td>Teste</td>\n",
              "    </tr>\n",
              "    <tr>\n",
              "      <th>6</th>\n",
              "      <td>24</td>\n",
              "      <td>SLSTM</td>\n",
              "      <td>1.032</td>\n",
              "      <td>0.357</td>\n",
              "      <td>Treino</td>\n",
              "    </tr>\n",
              "    <tr>\n",
              "      <th>7</th>\n",
              "      <td>24</td>\n",
              "      <td>SLSTM</td>\n",
              "      <td>0.538</td>\n",
              "      <td>[0.413, 0.662]</td>\n",
              "      <td>Validação</td>\n",
              "    </tr>\n",
              "    <tr>\n",
              "      <th>8</th>\n",
              "      <td>24</td>\n",
              "      <td>SLSTM</td>\n",
              "      <td>1.243</td>\n",
              "      <td>0</td>\n",
              "      <td>Teste</td>\n",
              "    </tr>\n",
              "    <tr>\n",
              "      <th>9</th>\n",
              "      <td>35</td>\n",
              "      <td>DRNN</td>\n",
              "      <td>4.832</td>\n",
              "      <td>1.21</td>\n",
              "      <td>Treino</td>\n",
              "    </tr>\n",
              "    <tr>\n",
              "      <th>10</th>\n",
              "      <td>35</td>\n",
              "      <td>DRNN</td>\n",
              "      <td>2.765</td>\n",
              "      <td>[2.085, 3.445]</td>\n",
              "      <td>Validação</td>\n",
              "    </tr>\n",
              "    <tr>\n",
              "      <th>11</th>\n",
              "      <td>35</td>\n",
              "      <td>DRNN</td>\n",
              "      <td>3.583</td>\n",
              "      <td>0</td>\n",
              "      <td>Teste</td>\n",
              "    </tr>\n",
              "  </tbody>\n",
              "</table>\n",
              "</div>\n",
              "      <button class=\"colab-df-convert\" onclick=\"convertToInteractive('df-9e0ae9b7-8c49-4ac6-ad35-046117848f8a')\"\n",
              "              title=\"Convert this dataframe to an interactive table.\"\n",
              "              style=\"display:none;\">\n",
              "        \n",
              "  <svg xmlns=\"http://www.w3.org/2000/svg\" height=\"24px\"viewBox=\"0 0 24 24\"\n",
              "       width=\"24px\">\n",
              "    <path d=\"M0 0h24v24H0V0z\" fill=\"none\"/>\n",
              "    <path d=\"M18.56 5.44l.94 2.06.94-2.06 2.06-.94-2.06-.94-.94-2.06-.94 2.06-2.06.94zm-11 1L8.5 8.5l.94-2.06 2.06-.94-2.06-.94L8.5 2.5l-.94 2.06-2.06.94zm10 10l.94 2.06.94-2.06 2.06-.94-2.06-.94-.94-2.06-.94 2.06-2.06.94z\"/><path d=\"M17.41 7.96l-1.37-1.37c-.4-.4-.92-.59-1.43-.59-.52 0-1.04.2-1.43.59L10.3 9.45l-7.72 7.72c-.78.78-.78 2.05 0 2.83L4 21.41c.39.39.9.59 1.41.59.51 0 1.02-.2 1.41-.59l7.78-7.78 2.81-2.81c.8-.78.8-2.07 0-2.86zM5.41 20L4 18.59l7.72-7.72 1.47 1.35L5.41 20z\"/>\n",
              "  </svg>\n",
              "      </button>\n",
              "      \n",
              "  <style>\n",
              "    .colab-df-container {\n",
              "      display:flex;\n",
              "      flex-wrap:wrap;\n",
              "      gap: 12px;\n",
              "    }\n",
              "\n",
              "    .colab-df-convert {\n",
              "      background-color: #E8F0FE;\n",
              "      border: none;\n",
              "      border-radius: 50%;\n",
              "      cursor: pointer;\n",
              "      display: none;\n",
              "      fill: #1967D2;\n",
              "      height: 32px;\n",
              "      padding: 0 0 0 0;\n",
              "      width: 32px;\n",
              "    }\n",
              "\n",
              "    .colab-df-convert:hover {\n",
              "      background-color: #E2EBFA;\n",
              "      box-shadow: 0px 1px 2px rgba(60, 64, 67, 0.3), 0px 1px 3px 1px rgba(60, 64, 67, 0.15);\n",
              "      fill: #174EA6;\n",
              "    }\n",
              "\n",
              "    [theme=dark] .colab-df-convert {\n",
              "      background-color: #3B4455;\n",
              "      fill: #D2E3FC;\n",
              "    }\n",
              "\n",
              "    [theme=dark] .colab-df-convert:hover {\n",
              "      background-color: #434B5C;\n",
              "      box-shadow: 0px 1px 3px 1px rgba(0, 0, 0, 0.15);\n",
              "      filter: drop-shadow(0px 1px 2px rgba(0, 0, 0, 0.3));\n",
              "      fill: #FFFFFF;\n",
              "    }\n",
              "  </style>\n",
              "\n",
              "      <script>\n",
              "        const buttonEl =\n",
              "          document.querySelector('#df-9e0ae9b7-8c49-4ac6-ad35-046117848f8a button.colab-df-convert');\n",
              "        buttonEl.style.display =\n",
              "          google.colab.kernel.accessAllowed ? 'block' : 'none';\n",
              "\n",
              "        async function convertToInteractive(key) {\n",
              "          const element = document.querySelector('#df-9e0ae9b7-8c49-4ac6-ad35-046117848f8a');\n",
              "          const dataTable =\n",
              "            await google.colab.kernel.invokeFunction('convertToInteractive',\n",
              "                                                     [key], {});\n",
              "          if (!dataTable) return;\n",
              "\n",
              "          const docLinkHtml = 'Like what you see? Visit the ' +\n",
              "            '<a target=\"_blank\" href=https://colab.research.google.com/notebooks/data_table.ipynb>data table notebook</a>'\n",
              "            + ' to learn more about interactive tables.';\n",
              "          element.innerHTML = '';\n",
              "          dataTable['output_type'] = 'display_data';\n",
              "          await google.colab.output.renderOutput(dataTable, element);\n",
              "          const docLink = document.createElement('div');\n",
              "          docLink.innerHTML = docLinkHtml;\n",
              "          element.appendChild(docLink);\n",
              "        }\n",
              "      </script>\n",
              "    </div>\n",
              "  </div>\n",
              "  "
            ]
          },
          "metadata": {},
          "execution_count": 84
        }
      ]
    },
    {
      "cell_type": "code",
      "source": [
        "#Paleta de cores do BarPlot\n",
        "colors1 = [    \n",
        "          (15/255,114/255,255/255,1), # blue \n",
        "          (224/255,0/255,193/255,.88), #pink\n",
        "          (1.0, 0.807843137254902, 0.0392156862745098, 1), #orange\n",
        "          (0.95, 0, 0, 1), #red\n",
        "          (0, 0.6666666666666666, 0.6274509803921569, 1), #green\n",
        "          \n",
        "          (0, 0.9764705882352941, 0, 0.5), #       \n",
        "          (10/255,10/255, 130/255, 1), #(0.4, 0.0, 0.6, 1), # green\n",
        "          (0.6, 0/255, 0.4, 0.8)#\n",
        "        ]\n",
        "\n",
        "\n",
        "sns.set_theme(style=\"white\", palette=None)\n",
        "fig = plt.figure(figsize = (15,6),dpi = 100)\n",
        "plt.grid()\n",
        "barWidth = 0.25\n",
        "r = np.arange(4)\n",
        "r = [x-1*barWidth for x in r]\n",
        "count = 0\n",
        "for data in ['Treino', 'Validação', 'Teste']:\n",
        "  r = [x + barWidth for x in r]\n",
        "  df_results_ = df_results[df_results['Dataset']==data]\n",
        "  if data == \"Validação\":\n",
        "    plt.plot(r, np.matrix(list(df_results_['STD'].values))[:,0],\"k_\", markersize = 10)\n",
        "    plt.plot(r, np.matrix(list(df_results_['STD'].values))[:,1],\"k+\", markersize = 10)\n",
        "    plt.bar(r, df_results_['RMSE'], ecolor='black', label=data,  width=barWidth, color=colors1[count], edgecolor='black')\n",
        "  else:\n",
        "    plt.bar(r, df_results_['RMSE'], yerr=df_results_['STD'], ecolor='black', label=data,  width=barWidth, color=colors1[count], edgecolor='black')\n",
        "  count+=1\n",
        "plt.xticks([r + barWidth for r in range(4)],[1,23,24,35])\n",
        "plt.ylabel(\"RMSE\")\n",
        "plt.xlabel(\"Falha\")\n",
        "plt.legend()\n",
        "plt.savefig('resultados/fig_bar_compare.pdf', format=\"pdf\", dpi=1000, bbox_inches=\"tight\")"
      ],
      "metadata": {
        "id": "BzKcYB6mvSjt",
        "outputId": "facc623b-d8d0-4872-e472-66e7289fb45d",
        "colab": {
          "base_uri": "https://localhost:8080/",
          "height": 511
        }
      },
      "execution_count": 119,
      "outputs": [
        {
          "output_type": "display_data",
          "data": {
            "text/plain": [
              "<Figure size 1500x600 with 1 Axes>"
            ],
            "image/png": "[encoded data removed]"
          },
          "metadata": {}
        }
      ]
    },
    {
      "cell_type": "code",
      "source": [
        "np.matrix(list(df_results_['STD'].values))[:,1]\n"
      ],
      "metadata": {
        "id": "WU40rU4BKCKh",
        "outputId": "68eee7d4-5337-479c-9189-ed3327b5da95",
        "colab": {
          "base_uri": "https://localhost:8080/"
        }
      },
      "execution_count": 107,
      "outputs": [
        {
          "output_type": "execute_result",
          "data": {
            "text/plain": [
              "matrix([[0.895],\n",
              "        [1.239],\n",
              "        [0.662],\n",
              "        [3.445]])"
            ]
          },
          "metadata": {},
          "execution_count": 107
        }
      ]
    },
    {
      "cell_type": "code",
      "source": [
        "#Paleta de cores do BarPlot\n",
        "colors1 = [    \n",
        "          (15/255,114/255,255/255,1), # blue \n",
        "          (224/255,0/255,193/255,.88), #pink\n",
        "          (1.0, 0.807843137254902, 0.0392156862745098, 1), #orange\n",
        "          (0.95, 0, 0, 1), #red\n",
        "          (0, 0.6666666666666666, 0.6274509803921569, 1), #green\n",
        "          \n",
        "          (0, 0.9764705882352941, 0, 0.5), #       \n",
        "          (10/255,10/255, 130/255, 1), #(0.4, 0.0, 0.6, 1), # green\n",
        "          (0.6, 0/255, 0.4, 0.8)#\n",
        "        ]\n",
        "\n",
        "#Importação e BarPlot dos melhores modelos\n",
        "import matplotlib.patches as mpatches\n",
        "sns.set_theme(style=\"white\", palette=None)\n",
        "fig = plt.figure(figsize = (20,5),dpi=100)\n",
        "axes = gridspec.GridSpec(nrows=1, ncols=3, figure=fig, wspace=0.2, hspace=0.3)\n",
        "\n",
        "# im = ['a','b','c']\n",
        "count=0\n",
        "\n",
        "for model_type in [\"classical\", \"shallow\", \"deep\"]:\n",
        "  best_models = get_best_models(model_type, fail)\n",
        "  best_models['Combinação'] = best_models [\"Normalização\"] +'+'+ best_models [\"Modelo\"]\n",
        "\n",
        "  ax = fig.add_subplot(axes[count])\n",
        "  ax.grid()\n",
        "  \n",
        "  sns.barplot(data = best_models, y='RMSE',x='Janela',hue='Modelo', palette = colors1,\n",
        "              showmeans=True,meanprops={\"marker\":\".\", \"markerfacecolor\":\"black\", \n",
        "                        \"markeredgecolor\":\"black\", \"markersize\":\"10\"})\n",
        "  # ax.text(-0.05, -0.1, im[count], size=20, weight='bold', transform=ax.transAxes)\n",
        "  if model_type == \"shallow\":\n",
        "    ax.set_title(\"Shallow\")\n",
        "    labels = ['SLSTM', 'SGRU', 'SRNN']\n",
        "  elif model_type == \"deep\":\n",
        "    ax.set_title(\"Deep\")\n",
        "    labels = ['DLSTM', 'DGRU', 'DRNN']\n",
        "  else: \n",
        "    ax.set_title(\"Clássico\")\n",
        "    labels = ['MLP', 'SVM', 'LR']\n",
        "\n",
        "  pop_a = mpatches.Patch(facecolor=colors1[0], label=labels[0], edgecolor='gray')\n",
        "  pop_b = mpatches.Patch(facecolor=colors1[1], label=labels[1], edgecolor='gray')\n",
        "  pop_c = mpatches.Patch(facecolor=colors1[2], label=labels[2], edgecolor='gray')\n",
        "  plt.legend(handles=[pop_a,pop_b,pop_c], loc='upper left', ncol=1)\n",
        "  \n",
        "  # ax.set_ylim(0.1,5.3) #Falha 01\n",
        "  # ax.set_ylim(0.5,5.5) #Falha 23\n",
        "  # ax.set_ylim(0.6,2.5) #Falha 24\n",
        "  # ax.set_ylim(2.5,9)   #Falha 35\n",
        "  \n",
        "  count+=1\n",
        "# plt.savefig('resultados/fig_results_grid_f'+str(fail)+'.pdf', format=\"pdf\", dpi=1000, bbox_inches=\"tight\")"
      ],
      "metadata": {
        "id": "mPnrCmWKy4mo"
      },
      "execution_count": null,
      "outputs": []
    }
  ],
  "metadata": {
    "colab": {
      "collapsed_sections": [
        "YdWA8SV1eIkq"
      ],
      "provenance": [],
      "include_colab_link": true
    },
    "gpuClass": "standard",
    "kernelspec": {
      "display_name": "Python 3.7.6 ('base')",
      "language": "python",
      "name": "python3"
    },
    "language_info": {
      "codemirror_mode": {
        "name": "ipython",
        "version": 3
      },
      "file_extension": ".py",
      "mimetype": "text/x-python",
      "name": "python",
      "nbconvert_exporter": "python",
      "pygments_lexer": "ipython3",
      "version": "3.7.6"
    },
    "orig_nbformat": 4,
    "vscode": {
      "interpreter": {
        "hash": "1d3a245165631ca1151694c656e253180713a00b2aa4e363f5b597e7a7cbc838"
      }
    }
  },
  "nbformat": 4,
  "nbformat_minor": 0
}